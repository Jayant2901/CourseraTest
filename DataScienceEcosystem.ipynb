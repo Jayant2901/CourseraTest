{
  "metadata": {
    "kernelspec": {
      "name": "python",
      "display_name": "Python (Pyodide)",
      "language": "python"
    },
    "language_info": {
      "codemirror_mode": {
        "name": "python",
        "version": 3
      },
      "file_extension": ".py",
      "mimetype": "text/x-python",
      "name": "python",
      "nbconvert_exporter": "python",
      "pygments_lexer": "ipython3",
      "version": "3.8"
    }
  },
  "nbformat_minor": 5,
  "nbformat": 4,
  "cells": [
    {
      "id": "e6188487-0240-44ce-8b94-3252334eaf09",
      "cell_type": "markdown",
      "source": "# Data Science Tools and Ecosystem",
      "metadata": {}
    },
    {
      "id": "0cb58cc0-b0fb-4e55-92ac-20c799095e65",
      "cell_type": "markdown",
      "source": "#### In this notebook, Data Science Tools and Ecosystem are summarized.",
      "metadata": {}
    },
    {
      "id": "624ca1f9-29ed-4762-bbdf-70f8122cc1fd",
      "cell_type": "markdown",
      "source": "**Objectives:**\n1. Some of the popular languages that Data Scientists use are\n2. Some of the commonly used libraries used by Data Scientists include:\n3. Data Science Tools",
      "metadata": {}
    },
    {
      "id": "7bce9bda-a4ec-45ca-944d-48a1a984594e",
      "cell_type": "markdown",
      "source": "Some of the popular languages that Data Scientists use are:\n1. Python\n2. R\n3. SQL",
      "metadata": {}
    },
    {
      "id": "7bed9425-8eef-4ee7-b460-0b56c9b15fc4",
      "cell_type": "markdown",
      "source": "Some of the commonly used libraries used by Data Scientists include:\n1. Pandas\n2. Numpy\n3. Matplotlib",
      "metadata": {}
    },
    {
      "id": "7c162d41-28b4-402d-af81-9855610868f6",
      "cell_type": "markdown",
      "source": "| Data Science Tools |\n| -------------------|\n|Jupyter Notebook |\n| VS Code |\n| RStudio |",
      "metadata": {}
    },
    {
      "id": "e0f2dd01-7bae-4b55-a472-7c225309bd16",
      "cell_type": "markdown",
      "source": "### Below are a few examples of evaluating arithmetic expressions in Python: ",
      "metadata": {}
    },
    {
      "id": "d1314054-ea98-4384-bd6a-ef91246fd346",
      "cell_type": "code",
      "source": "#This a simple arithmetic expression to mutiply then add integers\na= (3*4)+5\nprint(a)",
      "metadata": {
        "trusted": true
      },
      "outputs": [
        {
          "name": "stdout",
          "output_type": "stream",
          "text": "17\n"
        }
      ],
      "execution_count": 2
    },
    {
      "id": "2192265f-7fc3-46e3-98b4-11842ad0ffc8",
      "cell_type": "code",
      "source": "#This will convert 200 minutes to hours by diving by 60\na=(200/60)\nprint(a)",
      "metadata": {
        "trusted": true
      },
      "outputs": [
        {
          "name": "stdout",
          "output_type": "stream",
          "text": "3.3333333333333335\n"
        }
      ],
      "execution_count": 6
    },
    {
      "id": "30f9ec3b-1a83-43ef-8c8e-88fc0d9c8aac",
      "cell_type": "markdown",
      "source": "## Author\nJayant Sharma",
      "metadata": {}
    },
    {
      "id": "ee4d7455-d55e-4659-85be-0c642f72ea2d",
      "cell_type": "code",
      "source": "",
      "metadata": {
        "trusted": true
      },
      "outputs": [],
      "execution_count": null
    }
  ]
}